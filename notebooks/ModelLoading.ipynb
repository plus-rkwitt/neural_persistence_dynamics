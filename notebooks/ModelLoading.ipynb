{
 "cells": [
  {
   "cell_type": "markdown",
   "id": "8b096946-c985-4285-a0a5-23d4f68548fd",
   "metadata": {},
   "source": [
    "# Loading pre-trained models"
   ]
  },
  {
   "cell_type": "code",
   "execution_count": 1,
   "id": "9fe6e1fc-b534-4039-a76f-bc3f1ec93791",
   "metadata": {},
   "outputs": [],
   "source": [
    "%load_ext autoreload\n",
    "%autoreload 2\n",
    "\n",
    "%matplotlib inline\n",
    "import matplotlib.pyplot as plt \n",
    "\n",
    "import os\n",
    "import types\n",
    "import torch\n",
    "import numpy as np\n",
    "import torch.nn as nn\n",
    "from torchdiffeq import odeint\n",
    "\n",
    "import matplotlib.pyplot as plt\n",
    "\n",
    "from torch.utils.data import DataLoader\n",
    "from sklearn.metrics import mean_squared_error, r2_score\n",
    "from permetrics import RegressionMetric\n",
    "\n",
    "import sys\n",
    "sys.path.append('..')"
   ]
  },
  {
   "cell_type": "code",
   "execution_count": 2,
   "id": "322dd601-e71e-4170-ba0a-65d7f2d7bcb9",
   "metadata": {},
   "outputs": [],
   "source": [
    "from npd.nn.core import (\n",
    "\tSignatureHead,\n",
    "\tMTANHead,\n",
    "\tLatentStateHead,\n",
    "\tTDABackbone,\n",
    "\tPointNetBackbone,\n",
    "\tJointBackbone,\n",
    "\tVecReconNet, \n",
    "\tLatentODEfunc, \n",
    "\tPathToGaussianDecoder)\n",
    "\n",
    "from dynamics import (\n",
    "    create_recog_backbone,\n",
    "    create_recon_backbone,\n",
    "    create_processor,\n",
    "    load_data)\n",
    "\n",
    "def compute_minmax_reverse_stats(prms_orig_file):\n",
    "    prms_orig = torch.load(prms_orig_file)\n",
    "    max_d = prms_orig.max(dim=0, keepdim=True).values\n",
    "    min_d = prms_orig.min(dim=0, keepdim=True).values\n",
    "    return min_d, max_d\n",
    "\n",
    "def compute_minmax_reverse(x, min_d, max_d):\n",
    "    return (x + 1.)/2 * (max_d-min_d) + min_d"
   ]
  },
  {
   "cell_type": "code",
   "execution_count": 31,
   "id": "3ff51940-bd37-42ef-8a7a-ce7bfa43ebc2",
   "metadata": {},
   "outputs": [],
   "source": [
    "config = {\n",
    "    # file used for logging (contains args)\n",
    "    'log_file': '../logs/dorsogna_1k_log.pt',\n",
    "    # saved model\n",
    "    'mdl_file': '../logs/dorsogna_1k_mdl.pt',\n",
    "    # original parameter file\n",
    "    'aux_file': '../data/Giusti23a/1k/prms_1k.pt',\n",
    "    # correct relative paths if necessary\n",
    "    'base_dir': '../'\n",
    "}"
   ]
  },
  {
   "cell_type": "markdown",
   "id": "98182d5f-b1a0-4379-a69d-9ca5626713f5",
   "metadata": {},
   "source": [
    "Load **training arguments** and **state dictionary**:"
   ]
  },
  {
   "cell_type": "code",
   "execution_count": 17,
   "id": "0a752b79-899a-4153-8999-557c44a38652",
   "metadata": {},
   "outputs": [],
   "source": [
    "_,_,args = torch.load(config['log_file'])\n",
    "state_dict = torch.load(config['mdl_file'], map_location='cpu')"
   ]
  },
  {
   "cell_type": "markdown",
   "id": "e8ae7400-f6c6-4865-b915-9038c3b3760c",
   "metadata": {},
   "source": [
    "Instantiate model (in configuration used for training):"
   ]
  },
  {
   "cell_type": "code",
   "execution_count": 21,
   "id": "0619bbaf-bf97-4b57-b606-bf6726c97f97",
   "metadata": {},
   "outputs": [],
   "source": [
    "recog_backbone = create_recog_backbone(args) \n",
    "recon_backbone = create_recon_backbone(args) \n",
    "processor = create_processor(args)\n",
    "\n",
    "modules = nn.ModuleDict(\n",
    "{\n",
    "    \"recog_net\": recog_backbone,\n",
    "    \"recon_net\": recon_backbone,\n",
    "    \"lnode_net\": LatentODEfunc(args.z_dim, args.ode_h_dim),\n",
    "    \"ptogd_net\": PathToGaussianDecoder(nn.Identity(), initial_sigma=1.0),\n",
    "    \"processor\": processor,\n",
    "    \"regressor\": nn.Sequential(\n",
    "            nn.Linear(processor.get_outdim(), args.num_aux_dim),\n",
    "            nn.Tanh())})\n",
    "\n",
    "modules.load_state_dict(state_dict) # load state_dict\n",
    "modules = modules.to(args.device)"
   ]
  },
  {
   "cell_type": "markdown",
   "id": "9508b35c-c551-4d7b-9158-2ca35ab97755",
   "metadata": {},
   "source": [
    "Load and prepare data:"
   ]
  },
  {
   "cell_type": "code",
   "execution_count": 22,
   "id": "d7553950-7b87-4979-b22a-8173990963f3",
   "metadata": {},
   "outputs": [],
   "source": [
    "args.vec_inp_file = os.path.join(config['base_dir'], args.vec_inp_file)\n",
    "args.aux_inp_file = os.path.join(config['base_dir'], args.aux_inp_file)\n",
    "ds = load_data(args)\n",
    "\n",
    "split_generator = torch.Generator().manual_seed(args.seed) \n",
    "trn_set, tst_set = torch.utils.data.random_split(\n",
    "    ds, \n",
    "    [0.8, 0.2], \n",
    "    generator=split_generator)\n",
    "t = torch.linspace(0, 1.0, args.num_timepts).to(args.device)\n",
    "\n",
    "dl_tst = DataLoader(tst_set, \n",
    "                    batch_size=args.batch_size, \n",
    "                    shuffle=False, \n",
    "                    collate_fn=ds.get_collate())"
   ]
  },
  {
   "cell_type": "code",
   "execution_count": 32,
   "id": "908dd284-c5c4-488c-9fc1-0676ed778bb2",
   "metadata": {},
   "outputs": [],
   "source": [
    "def predict(modules, dl, t):\n",
    "    y_hat = []\n",
    "    y_org = []\n",
    "    modules.eval()\n",
    "    for batch in dl_tst:\n",
    "        out, evd_obs, evd_msk, aux_obs = modules['recog_net'](batch, args.device)\n",
    "\n",
    "        qz0_mean, qz0_logvar = out[:, :args.z_dim], out[:, args.z_dim:]\n",
    "        epsilon = torch.randn(qz0_mean.size()).to(args.device)\n",
    "        z0 = epsilon * torch.exp(.5 * qz0_logvar) + qz0_mean\n",
    "        \n",
    "        zs = odeint(\n",
    "            modules['lnode_net'], \n",
    "            z0, \n",
    "            t, \n",
    "            method=\"euler\").permute(1, 0, 2)\n",
    "        aux_enc = modules['processor'](zs) \n",
    "        aux_out = modules['regressor'](aux_enc)\n",
    "        \n",
    "        y_hat.append(aux_out.detach().cpu())\n",
    "        y_org.append(aux_obs.detach().cpu())\n",
    "        \n",
    "    return torch.cat(y_hat), torch.cat(y_org)"
   ]
  },
  {
   "cell_type": "code",
   "execution_count": 33,
   "id": "43550343-abf3-4a6f-8bfe-961f27eeff20",
   "metadata": {},
   "outputs": [],
   "source": [
    "min_d, max_d = compute_minmax_reverse_stats(config['aux_file'])\n",
    "unscale = lambda x: compute_minmax_reverse(x, min_d, max_d)\n",
    "y_hat, y_org = predict(modules, dl_tst, t)\n",
    "y_hat = unscale(y_hat) # scale [-1,1] prediction back to original scale\n",
    "y_org = unscale(y_org) # scale [-1,1] prediction back to original scale"
   ]
  },
  {
   "cell_type": "markdown",
   "id": "86d2a1f4-330d-4111-821b-7909f387adcf",
   "metadata": {},
   "source": [
    "Compute stats ..."
   ]
  },
  {
   "cell_type": "code",
   "execution_count": 34,
   "id": "9e2e3606-2c3a-46e2-8f3e-f43adeb48b2c",
   "metadata": {},
   "outputs": [
    {
     "name": "stdout",
     "output_type": "stream",
     "text": [
      "#Parameters=135931\n",
      "#Samples=200\n",
      "R2=0.8429 | SMAPE=0.0918\n"
     ]
    }
   ],
   "source": [
    "metric = RegressionMetric()\n",
    "scores = {\n",
    "    'r2s': np.mean(\n",
    "        [r2_score(\n",
    "            y_org[:,i],\n",
    "            y_hat[:,i]) for i in range(y_hat.shape[1])\n",
    "        ]),\n",
    "    'smp': np.mean(\n",
    "        [metric.symmetric_mean_absolute_percentage_error(\n",
    "            y_org[:,i].numpy(),\n",
    "            y_hat[:,i].numpy()) for i in range(y_hat.shape[1])\n",
    "        ])\n",
    "}\n",
    "num_params = np.sum([p.numel() for p in modules.parameters()])\n",
    "print(f'#Parameters={num_params}')\n",
    "print(f'#Samples={len(tst_set)}')\n",
    "print('R2={:0.4f} | SMAPE={:0.4f}'.format(\n",
    "    scores['r2s'], scores['smp']))"
   ]
  }
 ],
 "metadata": {
  "kernelspec": {
   "display_name": "Python 3 (ipykernel)",
   "language": "python",
   "name": "python3"
  },
  "language_info": {
   "codemirror_mode": {
    "name": "ipython",
    "version": 3
   },
   "file_extension": ".py",
   "mimetype": "text/x-python",
   "name": "python",
   "nbconvert_exporter": "python",
   "pygments_lexer": "ipython3",
   "version": "3.10.14"
  }
 },
 "nbformat": 4,
 "nbformat_minor": 5
}
